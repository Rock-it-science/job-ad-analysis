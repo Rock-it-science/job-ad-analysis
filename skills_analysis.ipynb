{
 "cells": [
  {
   "cell_type": "code",
   "execution_count": 4,
   "id": "f6f186c8-f93e-4c40-966f-9ed2c4f29130",
   "metadata": {},
   "outputs": [],
   "source": [
    "import pandas as pd"
   ]
  },
  {
   "cell_type": "code",
   "execution_count": 14,
   "id": "5ffa5bc7-bb07-403b-933f-aeace4d9d000",
   "metadata": {},
   "outputs": [],
   "source": [
    "df = pd.read_csv('skill_counts.csv')\n",
    "df.sort_values(by=['Count'], ascending=False, inplace=True)\n",
    "df.to_csv('skill_counts_sorted.csv')"
   ]
  },
  {
   "cell_type": "code",
   "execution_count": null,
   "id": "5de03b5a-8d8e-4763-a9d1-e07bd57931a5",
   "metadata": {},
   "outputs": [],
   "source": []
  }
 ],
 "metadata": {
  "kernelspec": {
   "display_name": "Python 3 (ipykernel)",
   "language": "python",
   "name": "python3"
  },
  "language_info": {
   "codemirror_mode": {
    "name": "ipython",
    "version": 3
   },
   "file_extension": ".py",
   "mimetype": "text/x-python",
   "name": "python",
   "nbconvert_exporter": "python",
   "pygments_lexer": "ipython3",
   "version": "3.10.0"
  }
 },
 "nbformat": 4,
 "nbformat_minor": 5
}
