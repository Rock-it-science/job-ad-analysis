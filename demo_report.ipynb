{
 "cells": [
  {
   "cell_type": "markdown",
   "id": "e97e4b66-b43d-46d7-a0e5-85048c629208",
   "metadata": {},
   "source": [
    "# Demo Calculations\n",
    "\n",
    "This is a demo report that was run on a smaller dataset for the demo video."
   ]
  },
  {
   "cell_type": "code",
   "execution_count": 1,
   "id": "92527ab6-9bde-4a40-8e02-0c4c5b9ab521",
   "metadata": {},
   "outputs": [],
   "source": [
    "import pandas as pd\n",
    "from sklearn import metrics\n",
    "import matplotlib.pyplot as plt\n",
    "plt.rcParams[\"figure.figsize\"] = (15,8)"
   ]
  },
  {
   "cell_type": "code",
   "execution_count": 2,
   "id": "85dd485b-2d3e-4a39-a712-ef0694c41315",
   "metadata": {},
   "outputs": [
    {
     "data": {
      "text/html": [
       "<div>\n",
       "<style scoped>\n",
       "    .dataframe tbody tr th:only-of-type {\n",
       "        vertical-align: middle;\n",
       "    }\n",
       "\n",
       "    .dataframe tbody tr th {\n",
       "        vertical-align: top;\n",
       "    }\n",
       "\n",
       "    .dataframe thead th {\n",
       "        text-align: right;\n",
       "    }\n",
       "</style>\n",
       "<table border=\"1\" class=\"dataframe\">\n",
       "  <thead>\n",
       "    <tr style=\"text-align: right;\">\n",
       "      <th></th>\n",
       "      <th>count</th>\n",
       "    </tr>\n",
       "    <tr>\n",
       "      <th>title category</th>\n",
       "      <th></th>\n",
       "    </tr>\n",
       "  </thead>\n",
       "  <tbody>\n",
       "    <tr>\n",
       "      <th>manager</th>\n",
       "      <td>118</td>\n",
       "    </tr>\n",
       "    <tr>\n",
       "      <th>software developer</th>\n",
       "      <td>34</td>\n",
       "    </tr>\n",
       "    <tr>\n",
       "      <th>software engineer</th>\n",
       "      <td>27</td>\n",
       "    </tr>\n",
       "    <tr>\n",
       "      <th>NaN</th>\n",
       "      <td>52</td>\n",
       "    </tr>\n",
       "  </tbody>\n",
       "</table>\n",
       "</div>"
      ],
      "text/plain": [
       "                    count\n",
       "title category           \n",
       "manager               118\n",
       "software developer     34\n",
       "software engineer      27\n",
       "NaN                    52"
      ]
     },
     "execution_count": 2,
     "metadata": {},
     "output_type": "execute_result"
    }
   ],
   "source": [
    "preproc = pd.read_csv(filepath_or_buffer='data/processed_ads.csv', index_col=0, engine='python', skipinitialspace=True, quotechar=\"\\\"\", quoting=1)\n",
    "preproc[['title category','title']].groupby('title category', dropna=False).count().rename(columns={'title': 'count'})"
   ]
  },
  {
   "cell_type": "code",
   "execution_count": 3,
   "id": "9bfb89a6-5e76-4bed-a82a-779341dfb834",
   "metadata": {},
   "outputs": [
    {
     "data": {
      "text/html": [
       "<div>\n",
       "<style scoped>\n",
       "    .dataframe tbody tr th:only-of-type {\n",
       "        vertical-align: middle;\n",
       "    }\n",
       "\n",
       "    .dataframe tbody tr th {\n",
       "        vertical-align: top;\n",
       "    }\n",
       "\n",
       "    .dataframe thead th {\n",
       "        text-align: right;\n",
       "    }\n",
       "</style>\n",
       "<table border=\"1\" class=\"dataframe\">\n",
       "  <thead>\n",
       "    <tr style=\"text-align: right;\">\n",
       "      <th></th>\n",
       "      <th>Title Category</th>\n",
       "      <th>Count</th>\n",
       "    </tr>\n",
       "    <tr>\n",
       "      <th>Skill</th>\n",
       "      <th></th>\n",
       "      <th></th>\n",
       "    </tr>\n",
       "  </thead>\n",
       "  <tbody>\n",
       "    <tr>\n",
       "      <th>work work</th>\n",
       "      <td>manager</td>\n",
       "      <td>153</td>\n",
       "    </tr>\n",
       "    <tr>\n",
       "      <th>experience experience</th>\n",
       "      <td>NaN</td>\n",
       "      <td>147</td>\n",
       "    </tr>\n",
       "    <tr>\n",
       "      <th>experience experience</th>\n",
       "      <td>manager</td>\n",
       "      <td>126</td>\n",
       "    </tr>\n",
       "    <tr>\n",
       "      <th>team team</th>\n",
       "      <td>manager</td>\n",
       "      <td>122</td>\n",
       "    </tr>\n",
       "    <tr>\n",
       "      <th>experience experience</th>\n",
       "      <td>software developer</td>\n",
       "      <td>111</td>\n",
       "    </tr>\n",
       "    <tr>\n",
       "      <th>...</th>\n",
       "      <td>...</td>\n",
       "      <td>...</td>\n",
       "    </tr>\n",
       "    <tr>\n",
       "      <th>www.aramark.ca www.aramark.ca</th>\n",
       "      <td>manager</td>\n",
       "      <td>1</td>\n",
       "    </tr>\n",
       "    <tr>\n",
       "      <th>kpmg manger</th>\n",
       "      <td>manager</td>\n",
       "      <td>1</td>\n",
       "    </tr>\n",
       "    <tr>\n",
       "      <th>technical pull</th>\n",
       "      <td>NaN</td>\n",
       "      <td>1</td>\n",
       "    </tr>\n",
       "    <tr>\n",
       "      <th>elaboration elaboration</th>\n",
       "      <td>NaN</td>\n",
       "      <td>1</td>\n",
       "    </tr>\n",
       "    <tr>\n",
       "      <th>memory management</th>\n",
       "      <td>software engineer</td>\n",
       "      <td>1</td>\n",
       "    </tr>\n",
       "  </tbody>\n",
       "</table>\n",
       "<p>12663 rows × 2 columns</p>\n",
       "</div>"
      ],
      "text/plain": [
       "                                   Title Category  Count\n",
       "Skill                                                   \n",
       "work work                                 manager    153\n",
       "experience experience                         NaN    147\n",
       "experience experience                     manager    126\n",
       "team team                                 manager    122\n",
       "experience experience          software developer    111\n",
       "...                                           ...    ...\n",
       "www.aramark.ca www.aramark.ca             manager      1\n",
       "kpmg manger                               manager      1\n",
       "technical pull                                NaN      1\n",
       "elaboration elaboration                       NaN      1\n",
       "memory management               software engineer      1\n",
       "\n",
       "[12663 rows x 2 columns]"
      ]
     },
     "execution_count": 3,
     "metadata": {},
     "output_type": "execute_result"
    }
   ],
   "source": [
    "skill_counts = pd.read_csv(filepath_or_buffer='data/skill_counts.csv', index_col=0, engine='python', skipinitialspace=True, quotechar=\"\\\"\", quoting=2).sort_values(by=['Count'], ascending=False)\n",
    "skill_counts"
   ]
  },
  {
   "cell_type": "code",
   "execution_count": 6,
   "id": "c3d979dd-9695-4e49-b1a6-d2c94d297af2",
   "metadata": {},
   "outputs": [
    {
     "name": "stdout",
     "output_type": "stream",
     "text": [
      "10.898%\n"
     ]
    }
   ],
   "source": [
    "# Take the first 20'000 rows to get samples of equal shape (note that we sorted by count descending in the last step)\n",
    "software_skills = skill_counts.loc[skill_counts['Title Category'] == 'software developer'].index[:5000]\n",
    "manager_skills = skill_counts.loc[skill_counts['Title Category'] == 'manager'].index[:5000]\n",
    "\n",
    "intersect = len(set(software_skills).intersection(set(manager_skills)))\n",
    "jaccard = intersect / (len(software_skills) + len(manager_skills) - intersect)\n",
    "print(f\"{jaccard*100:.3f}%\")"
   ]
  },
  {
   "cell_type": "code",
   "execution_count": 5,
   "id": "29ebdf75-a6a8-4815-a09f-170f747168a7",
   "metadata": {},
   "outputs": [
    {
     "name": "stdout",
     "output_type": "stream",
     "text": [
      "28.205%\n"
     ]
    }
   ],
   "source": [
    "# Take the first 20'000 rows to get samples of equal shape (note that we sorted by count descending in the last step)\n",
    "software_skills = skill_counts.loc[skill_counts['Title Category'] == 'software developer'].index[:100]\n",
    "manager_skills = skill_counts.loc[skill_counts['Title Category'] == 'manager'].index[:100]\n",
    "\n",
    "intersect = len(set(software_skills).intersection(set(manager_skills)))\n",
    "jaccard = intersect / (len(software_skills) + len(manager_skills) - intersect)\n",
    "print(f\"{jaccard*100:.3f}%\")"
   ]
  }
 ],
 "metadata": {
  "kernelspec": {
   "display_name": "Python 3 (ipykernel)",
   "language": "python",
   "name": "python3"
  },
  "language_info": {
   "codemirror_mode": {
    "name": "ipython",
    "version": 3
   },
   "file_extension": ".py",
   "mimetype": "text/x-python",
   "name": "python",
   "nbconvert_exporter": "python",
   "pygments_lexer": "ipython3",
   "version": "3.10.0"
  }
 },
 "nbformat": 4,
 "nbformat_minor": 5
}
