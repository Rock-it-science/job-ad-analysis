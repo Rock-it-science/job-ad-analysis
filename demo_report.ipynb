{
 "cells": [
  {
   "cell_type": "code",
   "execution_count": 1,
   "id": "92527ab6-9bde-4a40-8e02-0c4c5b9ab521",
   "metadata": {},
   "outputs": [],
   "source": [
    "import pandas as pd\n",
    "from sklearn import metrics\n",
    "import matplotlib.pyplot as plt\n",
    "plt.rcParams[\"figure.figsize\"] = (15,8)"
   ]
  },
  {
   "cell_type": "code",
   "execution_count": 2,
   "id": "85dd485b-2d3e-4a39-a712-ef0694c41315",
   "metadata": {},
   "outputs": [
    {
     "data": {
      "text/html": [
       "<div>\n",
       "<style scoped>\n",
       "    .dataframe tbody tr th:only-of-type {\n",
       "        vertical-align: middle;\n",
       "    }\n",
       "\n",
       "    .dataframe tbody tr th {\n",
       "        vertical-align: top;\n",
       "    }\n",
       "\n",
       "    .dataframe thead th {\n",
       "        text-align: right;\n",
       "    }\n",
       "</style>\n",
       "<table border=\"1\" class=\"dataframe\">\n",
       "  <thead>\n",
       "    <tr style=\"text-align: right;\">\n",
       "      <th></th>\n",
       "      <th>count</th>\n",
       "    </tr>\n",
       "    <tr>\n",
       "      <th>title category</th>\n",
       "      <th></th>\n",
       "    </tr>\n",
       "  </thead>\n",
       "  <tbody>\n",
       "    <tr>\n",
       "      <th>manager</th>\n",
       "      <td>123</td>\n",
       "    </tr>\n",
       "  </tbody>\n",
       "</table>\n",
       "</div>"
      ],
      "text/plain": [
       "                count\n",
       "title category       \n",
       "manager           123"
      ]
     },
     "execution_count": 2,
     "metadata": {},
     "output_type": "execute_result"
    }
   ],
   "source": [
    "preproc = pd.read_csv(filepath_or_buffer='data/processed_ads.csv', index_col=0, engine='python', skipinitialspace=True, quotechar=\"\\\"\", quoting=1)\n",
    "preproc[['title category','title']].groupby('title category', dropna=False).count().rename(columns={'title': 'count'})"
   ]
  },
  {
   "cell_type": "code",
   "execution_count": 3,
   "id": "9bfb89a6-5e76-4bed-a82a-779341dfb834",
   "metadata": {},
   "outputs": [
    {
     "data": {
      "text/html": [
       "<div>\n",
       "<style scoped>\n",
       "    .dataframe tbody tr th:only-of-type {\n",
       "        vertical-align: middle;\n",
       "    }\n",
       "\n",
       "    .dataframe tbody tr th {\n",
       "        vertical-align: top;\n",
       "    }\n",
       "\n",
       "    .dataframe thead th {\n",
       "        text-align: right;\n",
       "    }\n",
       "</style>\n",
       "<table border=\"1\" class=\"dataframe\">\n",
       "  <thead>\n",
       "    <tr style=\"text-align: right;\">\n",
       "      <th></th>\n",
       "      <th>Title Category</th>\n",
       "      <th>Count</th>\n",
       "    </tr>\n",
       "    <tr>\n",
       "      <th>Skill</th>\n",
       "      <th></th>\n",
       "      <th></th>\n",
       "    </tr>\n",
       "  </thead>\n",
       "  <tbody>\n",
       "    <tr>\n",
       "      <th>team team</th>\n",
       "      <td>manager</td>\n",
       "      <td>167</td>\n",
       "    </tr>\n",
       "    <tr>\n",
       "      <th>experience experience</th>\n",
       "      <td>manager</td>\n",
       "      <td>163</td>\n",
       "    </tr>\n",
       "    <tr>\n",
       "      <th>ability ability</th>\n",
       "      <td>manager</td>\n",
       "      <td>145</td>\n",
       "    </tr>\n",
       "    <tr>\n",
       "      <th>work work</th>\n",
       "      <td>manager</td>\n",
       "      <td>121</td>\n",
       "    </tr>\n",
       "    <tr>\n",
       "      <th>a team</th>\n",
       "      <td>manager</td>\n",
       "      <td>107</td>\n",
       "    </tr>\n",
       "    <tr>\n",
       "      <th>...</th>\n",
       "      <td>...</td>\n",
       "      <td>...</td>\n",
       "    </tr>\n",
       "    <tr>\n",
       "      <th>bccdc authority</th>\n",
       "      <td>manager</td>\n",
       "      <td>1</td>\n",
       "    </tr>\n",
       "    <tr>\n",
       "      <th>key partner</th>\n",
       "      <td>manager</td>\n",
       "      <td>1</td>\n",
       "    </tr>\n",
       "    <tr>\n",
       "      <th>an process</th>\n",
       "      <td>manager</td>\n",
       "      <td>1</td>\n",
       "    </tr>\n",
       "    <tr>\n",
       "      <th>effective case</th>\n",
       "      <td>manager</td>\n",
       "      <td>1</td>\n",
       "    </tr>\n",
       "    <tr>\n",
       "      <th>political protect</th>\n",
       "      <td>manager</td>\n",
       "      <td>1</td>\n",
       "    </tr>\n",
       "  </tbody>\n",
       "</table>\n",
       "<p>6248 rows × 2 columns</p>\n",
       "</div>"
      ],
      "text/plain": [
       "                      Title Category  Count\n",
       "Skill                                      \n",
       "team team                    manager    167\n",
       "experience experience        manager    163\n",
       "ability ability              manager    145\n",
       "work work                    manager    121\n",
       "a team                       manager    107\n",
       "...                              ...    ...\n",
       "bccdc authority              manager      1\n",
       "key partner                  manager      1\n",
       "an process                   manager      1\n",
       "effective case               manager      1\n",
       "political protect            manager      1\n",
       "\n",
       "[6248 rows x 2 columns]"
      ]
     },
     "execution_count": 3,
     "metadata": {},
     "output_type": "execute_result"
    }
   ],
   "source": [
    "skill_counts = pd.read_csv(filepath_or_buffer='data/skill_counts.csv', index_col=0, engine='python', skipinitialspace=True, quotechar=\"\\\"\", quoting=2).sort_values(by=['Count'], ascending=False)\n",
    "skill_counts"
   ]
  },
  {
   "cell_type": "code",
   "execution_count": 4,
   "id": "c3d979dd-9695-4e49-b1a6-d2c94d297af2",
   "metadata": {},
   "outputs": [
    {
     "name": "stdout",
     "output_type": "stream",
     "text": [
      "0.000%\n"
     ]
    }
   ],
   "source": [
    "# Take the first 20'000 rows to get samples of equal shape (note that we sorted by count descending in the last step)\n",
    "software_skills = skill_counts.loc[skill_counts['Title Category'] == 'software developer'].index[:20000]\n",
    "manager_skills = skill_counts.loc[skill_counts['Title Category'] == 'manager'].index[:20000]\n",
    "\n",
    "intersect = len(set(software_skills).intersection(set(manager_skills)))\n",
    "jaccard = intersect / (len(software_skills) + len(manager_skills) - intersect)\n",
    "print(f\"{jaccard*100:.3f}%\")"
   ]
  },
  {
   "cell_type": "code",
   "execution_count": 5,
   "id": "29ebdf75-a6a8-4815-a09f-170f747168a7",
   "metadata": {},
   "outputs": [
    {
     "name": "stdout",
     "output_type": "stream",
     "text": [
      "0.000%\n"
     ]
    }
   ],
   "source": [
    "# Take the first 20'000 rows to get samples of equal shape (note that we sorted by count descending in the last step)\n",
    "software_skills = skill_counts.loc[skill_counts['Title Category'] == 'software developer'].index[:100]\n",
    "manager_skills = skill_counts.loc[skill_counts['Title Category'] == 'manager'].index[:100]\n",
    "\n",
    "intersect = len(set(software_skills).intersection(set(manager_skills)))\n",
    "jaccard = intersect / (len(software_skills) + len(manager_skills) - intersect)\n",
    "print(f\"{jaccard*100:.3f}%\")"
   ]
  }
 ],
 "metadata": {
  "kernelspec": {
   "display_name": "Python 3 (ipykernel)",
   "language": "python",
   "name": "python3"
  },
  "language_info": {
   "codemirror_mode": {
    "name": "ipython",
    "version": 3
   },
   "file_extension": ".py",
   "mimetype": "text/x-python",
   "name": "python",
   "nbconvert_exporter": "python",
   "pygments_lexer": "ipython3",
   "version": "3.10.0"
  }
 },
 "nbformat": 4,
 "nbformat_minor": 5
}
